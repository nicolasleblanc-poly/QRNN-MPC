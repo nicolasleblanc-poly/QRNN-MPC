{
 "cells": [
  {
   "cell_type": "code",
   "execution_count": 1,
   "id": "b17cb785",
   "metadata": {},
   "outputs": [],
   "source": [
    "import numpy as np\n",
    "import matplotlib.pyplot as plt\n",
    "from particle_filtering import particle_filtering_func, discrete_cem_func, continuous_cem_func\n",
    "from setup import setup_class\n",
    "import torch\n"
   ]
  },
  {
   "cell_type": "code",
   "execution_count": 2,
   "id": "14b49050",
   "metadata": {},
   "outputs": [
    {
     "name": "stdout",
     "output_type": "stream",
     "text": [
      "prob  LunarLanderContinuous \n",
      "\n"
     ]
    }
   ],
   "source": [
    "# Problem setup\n",
    "# prob = \"CartPole\"\n",
    "# prob = \"Acrobot\"\n",
    "# prob = \"MountainCar\"\n",
    "# prob = \"LunarLander\"\n",
    "# prob = \"Pendulum\"\n",
    "# prob = \"Pendulum_xyomega\"\n",
    "# prob = \"MountainCarContinuous\"\n",
    "prob = \"LunarLanderContinuous\"\n",
    "# prob = \"PandaReacher\"\n",
    "# prob = \"PandaPusher\"\n",
    "# prob = \"MuJoCoReacher\"\n",
    "# prob = \"MuJoCoPusher\"\n",
    "\n",
    "print(\"prob \", prob, \"\\n\")\n",
    "\n",
    "\n",
    "prob_vars = setup_class(prob)\n"
   ]
  },
  {
   "cell_type": "markdown",
   "id": "81e40676",
   "metadata": {},
   "source": [
    "Test PF\n"
   ]
  },
  {
   "cell_type": "code",
   "execution_count": 8,
   "id": "8e4b45e4",
   "metadata": {},
   "outputs": [
    {
     "name": "stdout",
     "output_type": "stream",
     "text": [
      "prob_vars.horizon  30 \n",
      "\n",
      "particles shape  (100, 60) \n",
      "\n",
      "costs.shape  torch.Size([100, 30]) \n",
      "\n",
      "costs.shape  torch.Size([100]) \n",
      "\n",
      "actions  [[ 0.99273061 -0.16208832  0.27966012 ...  0.66822916 -0.64809464\n",
      "  -0.0643833 ]\n",
      " [-0.75394014 -0.50079419 -0.16516958 ...  0.97566065  0.18003718\n",
      "   0.09874661]\n",
      " [ 0.94666817  0.29829221  0.42282671 ...  0.92938518 -0.72149617\n",
      "   0.1366317 ]\n",
      " ...\n",
      " [ 0.00228721  1.          0.43252515 ... -0.03582664  0.54390988\n",
      "  -0.92806672]\n",
      " [ 0.03539311  0.45055109  0.36803066 ... -0.49657795  0.84031287\n",
      "  -0.89493194]\n",
      " [ 0.17675177  0.90729641  0.44886582 ... -0.33536941  0.23075375\n",
      "  -0.75940345]] \n",
      "\n",
      "best_first_action  [ 0.99273061 -0.16208832] \n",
      "\n",
      "actions shape  (100, 60) \n",
      "\n"
     ]
    }
   ],
   "source": [
    "if prob_vars.prob == \"CartPole\":\n",
    "    particles = np.random.randint(0, 2, (prob_vars.num_particles, prob_vars.horizon))\n",
    "elif prob_vars.prob == \"Acrobot\" or prob_vars.prob == \"MountainCar\":\n",
    "    particles = np.random.randint(0, 3, (prob_vars.num_particles, prob_vars.horizon))\n",
    "elif prob_vars.prob == \"LunarLander\":\n",
    "    particles = np.random.randint(0, 4, (prob_vars.num_particles, prob_vars.horizon))\n",
    "elif prob_vars.prob == \"PandaReacher\" or prob_vars.prob == \"MuJoCoReacher\" or prob_vars.prob == \"PandaPusher\" or prob_vars.prob == \"MuJoCoPusher\" or prob_vars.prob == \"LunarLanderContinuous\":\n",
    "    particles = np.random.uniform(prob_vars.action_low, prob_vars.action_high, (prob_vars.num_particles, prob_vars.action_dim*prob_vars.horizon))\n",
    "else: # Pendulum, MountainCarContinuous\n",
    "    particles = np.random.uniform(prob_vars.action_low, prob_vars.action_high, (prob_vars.num_particles, prob_vars.horizon))\n",
    "\n",
    "# num_particles = 30\n",
    "print(\"prob_vars.horizon \", prob_vars.horizon, \"\\n\")\n",
    "\n",
    "# if prob_vars.prob == \"CartPole\":\n",
    "#     particles = np.random.randint(0, 2, (num_particles, prob_vars.horizon))\n",
    "# elif prob_vars.prob == \"Acrobot\" or prob_vars.prob == \"MountainCar\":\n",
    "#     particles = np.random.randint(0, 3, (num_particles, prob_vars.horizon))\n",
    "# elif prob_vars.prob == \"LunarLander\":\n",
    "#     particles = np.random.randint(0, 4, (num_particles, prob_vars.horizon))\n",
    "# elif prob_vars.prob == \"PandaReacher\" or prob_vars.prob == \"MuJoCoReacher\" or prob_vars.prob == \"PandaPusher\" or prob_vars.prob == \"MuJoCoPusher\" or prob_vars.prob == \"LunarLanderContinuous\":\n",
    "#     particles = np.random.uniform(prob_vars.action_low, prob_vars.action_high, (num_particles, prob_vars.action_dim*prob_vars.horizon))\n",
    "# else: # Pendulum, MountainCarContinuous\n",
    "#     particles = np.random.uniform(prob_vars.action_low, prob_vars.action_high, (num_particles, prob_vars.horizon))\n",
    "\n",
    "# print(\"particles \", particles, \"\\n\")\n",
    "print(\"particles shape \", particles.shape, \"\\n\")\n",
    "\n",
    "costs = torch.zeros((prob_vars.num_particles, prob_vars.horizon))\n",
    "# costs = torch.zeros((num_particles, prob_vars.horizon))\n",
    "best_action_sequence = particles[0]\n",
    "\n",
    "best_first_action, actions = particle_filtering_func(prob_vars, particles, costs, best_action_sequence)\n",
    "\n",
    "\n",
    "print(\"actions \", actions, \"\\n\")\n",
    "print(\"best_first_action \", best_first_action, \"\\n\")\n",
    "print(\"actions shape \", actions.shape, \"\\n\")\n",
    "\n"
   ]
  },
  {
   "cell_type": "code",
   "execution_count": null,
   "id": "3d5c0e04",
   "metadata": {},
   "outputs": [
    {
     "data": {
      "text/plain": [
       "(array([0.11420644, 0.35425551]),\n",
       " array([[ 0.11420644,  0.35425551,  0.11054516, ..., -0.50836063,\n",
       "         -0.36733129,  0.14469738],\n",
       "        [-0.05749825,  0.81549409,  0.87832046, ..., -0.48537014,\n",
       "          0.2230418 ,  0.81516427],\n",
       "        [ 1.        , -0.78047452,  0.44680854, ..., -0.98572144,\n",
       "         -0.22343159,  0.2354668 ],\n",
       "        ...,\n",
       "        [ 0.02356348,  0.6805659 ,  0.93705678, ..., -0.50410668,\n",
       "         -0.29334749,  0.6023546 ],\n",
       "        [ 0.15908561, -0.9312976 , -0.5241102 , ...,  0.43268413,\n",
       "         -1.        ,  0.53212486],\n",
       "        [ 0.84924087, -0.18057036, -0.13992308, ..., -0.21473984,\n",
       "          0.48140045,  0.22427774]]))"
      ]
     },
     "execution_count": 6,
     "metadata": {},
     "output_type": "execute_result"
    }
   ],
   "source": [
    "actions[0]./, actions[1].shape"
   ]
  },
  {
   "cell_type": "markdown",
   "id": "2efa9929",
   "metadata": {},
   "source": [
    "Test CEM \n"
   ]
  },
  {
   "cell_type": "code",
   "execution_count": null,
   "id": "58ec6dd0",
   "metadata": {},
   "outputs": [
    {
     "name": "stdout",
     "output_type": "stream",
     "text": [
      "prob_vars.horizon  30 \n",
      "\n",
      "particles shape  (100, 60) \n",
      "\n",
      "costs.shape  torch.Size([30, 30]) \n",
      "\n",
      "costs.shape  torch.Size([30]) \n",
      "\n",
      "mu.shape  (60,) \n",
      "\n",
      "sigma.shape  (60, 60) \n",
      "\n",
      "actions  [[-0.00499331 -0.21500169  1.20795707 ... -0.1250661   0.03510026\n",
      "   0.6767776 ]\n",
      " [-0.51982242  0.7971668  -0.3473432  ... -0.66875407 -0.82702575\n",
      "   0.49646465]\n",
      " [ 0.50966714 -0.39408154  1.23987912 ...  0.66479538  0.02766813\n",
      "   0.70209879]\n",
      " ...\n",
      " [ 0.39421845 -0.0362323   0.18395653 ...  0.44870534  0.65702907\n",
      "   1.19453027]\n",
      " [-0.15311856 -0.45117603  0.76913545 ... -0.24899033 -0.36483466\n",
      "   0.4474418 ]\n",
      " [ 0.14492545  0.14123827  0.713959   ...  0.11228589  0.16474309\n",
      "   0.87975747]] \n",
      "\n",
      "actions shape  (100, 60) \n",
      "\n"
     ]
    }
   ],
   "source": [
    "if prob_vars.prob == \"CartPole\":\n",
    "    particles = np.random.randint(0, 2, (prob_vars.num_particles, prob_vars.horizon))\n",
    "elif prob_vars.prob == \"Acrobot\" or prob_vars.prob == \"MountainCar\":\n",
    "    particles = np.random.randint(0, 3, (prob_vars.num_particles, prob_vars.horizon))\n",
    "elif prob_vars.prob == \"LunarLander\":\n",
    "    particles = np.random.randint(0, 4, (prob_vars.num_particles, prob_vars.horizon))\n",
    "elif prob_vars.prob == \"PandaReacher\" or prob_vars.prob == \"MuJoCoReacher\" or prob_vars.prob == \"PandaPusher\" or prob_vars.prob == \"MuJoCoPusher\" or prob_vars.prob == \"LunarLanderContinuous\":\n",
    "    particles = np.random.uniform(prob_vars.action_low, prob_vars.action_high, (prob_vars.num_particles, prob_vars.action_dim*prob_vars.horizon))\n",
    "else: # Pendulum, MountainCarContinuous\n",
    "    particles = np.random.uniform(prob_vars.action_low, prob_vars.action_high, (prob_vars.num_particles, prob_vars.horizon))\n",
    "\n",
    "# num_particles = 30\n",
    "print(\"prob_vars.horizon \", prob_vars.horizon, \"\\n\")\n",
    "\n",
    "# if prob_vars.prob == \"CartPole\":\n",
    "#     particles = np.random.randint(0, 2, (num_particles, prob_vars.horizon))\n",
    "# elif prob_vars.prob == \"Acrobot\" or prob_vars.prob == \"MountainCar\":\n",
    "#     particles = np.random.randint(0, 3, (num_particles, prob_vars.horizon))\n",
    "# elif prob_vars.prob == \"LunarLander\":\n",
    "#     particles = np.random.randint(0, 4, (num_particles, prob_vars.horizon))\n",
    "# elif prob_vars.prob == \"PandaReacher\" or prob_vars.prob == \"MuJoCoReacher\" or prob_vars.prob == \"PandaPusher\" or prob_vars.prob == \"MuJoCoPusher\" or prob_vars.prob == \"LunarLanderContinuous\":\n",
    "#     particles = np.random.uniform(prob_vars.action_low, prob_vars.action_high, (num_particles, prob_vars.action_dim*prob_vars.horizon))\n",
    "# else: # Pendulum, MountainCarContinuous\n",
    "#     particles = np.random.uniform(prob_vars.action_low, prob_vars.action_high, (num_particles, prob_vars.horizon))\n",
    "\n",
    "# print(\"particles \", particles, \"\\n\")\n",
    "print(\"particles shape \", particles.shape, \"\\n\")\n",
    "\n",
    "costs = torch.zeros((prob_vars.num_particles, prob_vars.horizon))\n",
    "# costs = torch.zeros((num_particles, prob_vars.horizon))\n",
    "best_action_sequence = particles[0]\n",
    "\n",
    "if prob_vars.discrete:\n",
    "    actions = discrete_cem_func(prob_vars, particles, costs, best_action_sequence)\n",
    "\n",
    "else:\n",
    "    actions = continuous_cem_func(prob_vars, particles, costs, best_action_sequence)\n",
    "\n",
    "\n",
    "print(\"actions \", actions, \"\\n\")\n",
    "print(\"actions shape \", actions.shape, \"\\n\")\n",
    "\n"
   ]
  }
 ],
 "metadata": {
  "kernelspec": {
   "display_name": "Python 3",
   "language": "python",
   "name": "python3"
  },
  "language_info": {
   "codemirror_mode": {
    "name": "ipython",
    "version": 3
   },
   "file_extension": ".py",
   "mimetype": "text/x-python",
   "name": "python",
   "nbconvert_exporter": "python",
   "pygments_lexer": "ipython3",
   "version": "3.11.9"
  }
 },
 "nbformat": 4,
 "nbformat_minor": 5
}
