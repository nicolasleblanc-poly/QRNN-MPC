{
 "cells": [
  {
   "cell_type": "code",
   "execution_count": 1,
   "id": "123525ea",
   "metadata": {},
   "outputs": [],
   "source": [
    "import gymnasium as gym\n",
    "import panda_gym\n"
   ]
  },
  {
   "cell_type": "code",
   "execution_count": 3,
   "id": "855c3016",
   "metadata": {},
   "outputs": [
    {
     "name": "stdout",
     "output_type": "stream",
     "text": [
      "env.reset(seed=0)  ({'observation': array([ 3.8439669e-02, -2.1944723e-12,  1.9740014e-01,  0.0000000e+00,\n",
      "       -0.0000000e+00,  0.0000000e+00, -1.4504170e-01,  9.3981072e-02,\n",
      "        2.0000000e-02,  0.0000000e+00, -0.0000000e+00,  0.0000000e+00,\n",
      "        0.0000000e+00,  0.0000000e+00,  0.0000000e+00,  0.0000000e+00,\n",
      "        0.0000000e+00,  0.0000000e+00], dtype=float32), 'achieved_goal': array([-0.1450417 ,  0.09398107,  0.02      ], dtype=float32), 'desired_goal': array([ 0.04108851, -0.06906398,  0.02      ], dtype=float32)}, {'is_success': array(False)}) \n",
      "\n",
      "env.reset(seed=8)  ({'observation': array([ 3.84396687e-02, -2.19447225e-12,  1.97400138e-01,  0.00000000e+00,\n",
      "       -0.00000000e+00,  0.00000000e+00,  8.65646824e-02,  1.10968955e-01,\n",
      "        1.99999996e-02,  0.00000000e+00, -0.00000000e+00,  0.00000000e+00,\n",
      "        0.00000000e+00,  0.00000000e+00,  0.00000000e+00,  0.00000000e+00,\n",
      "        0.00000000e+00,  0.00000000e+00], dtype=float32), 'achieved_goal': array([0.08656468, 0.11096895, 0.02      ], dtype=float32), 'desired_goal': array([-0.05190832,  0.14618306,  0.02      ], dtype=float32)}, {'is_success': array(False)}) \n",
      "\n",
      "env.reset(seed=15)  ({'observation': array([ 3.8439669e-02, -2.1944723e-12,  1.9740014e-01,  0.0000000e+00,\n",
      "       -0.0000000e+00,  0.0000000e+00, -1.3654855e-01,  2.1479176e-02,\n",
      "        2.0000000e-02,  0.0000000e+00, -0.0000000e+00,  0.0000000e+00,\n",
      "        0.0000000e+00,  0.0000000e+00,  0.0000000e+00,  0.0000000e+00,\n",
      "        0.0000000e+00,  0.0000000e+00], dtype=float32), 'achieved_goal': array([-0.13654855,  0.02147918,  0.02      ], dtype=float32), 'desired_goal': array([0.05782301, 0.09474514, 0.02      ], dtype=float32)}, {'is_success': array(False)}) \n",
      "\n"
     ]
    }
   ],
   "source": [
    "env = gym.make(\"PandaPush-v3\")\n",
    "\n",
    "print(\"env.reset(seed=0) \", env.reset(seed=0), \"\\n\")\n",
    "\n",
    "print(\"env.reset(seed=8) \", env.reset(seed=8), \"\\n\")\n",
    "\n",
    "print(\"env.reset(seed=15) \", env.reset(seed=15), \"\\n\")\n",
    "\n"
   ]
  },
  {
   "cell_type": "code",
   "execution_count": 4,
   "id": "7139d1f4",
   "metadata": {},
   "outputs": [
    {
     "name": "stdout",
     "output_type": "stream",
     "text": [
      "env.reset(seed=0)  ({'observation': array([ 3.8439669e-02, -2.1944723e-12,  1.9740014e-01,  0.0000000e+00,\n",
      "       -0.0000000e+00,  0.0000000e+00, -1.4504170e-01,  9.3981072e-02,\n",
      "        2.0000000e-02,  0.0000000e+00, -0.0000000e+00,  0.0000000e+00,\n",
      "        0.0000000e+00,  0.0000000e+00,  0.0000000e+00,  0.0000000e+00,\n",
      "        0.0000000e+00,  0.0000000e+00], dtype=float32), 'achieved_goal': array([-0.1450417 ,  0.09398107,  0.02      ], dtype=float32), 'desired_goal': array([ 0.04108851, -0.06906398,  0.02      ], dtype=float32)}, {'is_success': array(False)}) \n",
      "\n",
      "env.reset(seed=8)  ({'observation': array([ 3.84396687e-02, -2.19447225e-12,  1.97400138e-01,  0.00000000e+00,\n",
      "       -0.00000000e+00,  0.00000000e+00,  8.65646824e-02,  1.10968955e-01,\n",
      "        1.99999996e-02,  0.00000000e+00, -0.00000000e+00,  0.00000000e+00,\n",
      "        0.00000000e+00,  0.00000000e+00,  0.00000000e+00,  0.00000000e+00,\n",
      "        0.00000000e+00,  0.00000000e+00], dtype=float32), 'achieved_goal': array([0.08656468, 0.11096895, 0.02      ], dtype=float32), 'desired_goal': array([-0.05190832,  0.14618306,  0.02      ], dtype=float32)}, {'is_success': array(False)}) \n",
      "\n",
      "env.reset(seed=15)  ({'observation': array([ 3.8439669e-02, -2.1944723e-12,  1.9740014e-01,  0.0000000e+00,\n",
      "       -0.0000000e+00,  0.0000000e+00, -1.3654855e-01,  2.1479176e-02,\n",
      "        2.0000000e-02,  0.0000000e+00, -0.0000000e+00,  0.0000000e+00,\n",
      "        0.0000000e+00,  0.0000000e+00,  0.0000000e+00,  0.0000000e+00,\n",
      "        0.0000000e+00,  0.0000000e+00], dtype=float32), 'achieved_goal': array([-0.13654855,  0.02147918,  0.02      ], dtype=float32), 'desired_goal': array([0.05782301, 0.09474514, 0.02      ], dtype=float32)}, {'is_success': array(False)}) \n",
      "\n"
     ]
    }
   ],
   "source": [
    "env = gym.make(\"PandaPushDense-v3\")\n",
    "\n",
    "print(\"env.reset(seed=0) \", env.reset(seed=0), \"\\n\")\n",
    "\n",
    "print(\"env.reset(seed=8) \", env.reset(seed=8), \"\\n\")\n",
    "\n",
    "print(\"env.reset(seed=15) \", env.reset(seed=15), \"\\n\")\n",
    "\n"
   ]
  },
  {
   "cell_type": "code",
   "execution_count": 7,
   "id": "2a05297c",
   "metadata": {},
   "outputs": [
    {
     "name": "stdout",
     "output_type": "stream",
     "text": [
      "env.reset(seed=0)  (array([ 0.00000000e+00,  0.00000000e+00,  0.00000000e+00,  0.00000000e+00,\n",
      "        0.00000000e+00,  0.00000000e+00,  0.00000000e+00,  3.13270239e-03,\n",
      "        4.12755577e-03,  1.06635776e-03,  2.29496561e-03,  4.36249915e-04,\n",
      "        4.35072424e-03,  3.15853554e-03,  8.21000000e-01, -6.00000000e-01,\n",
      "        0.00000000e+00,  2.56611054e-01, -3.37707943e-01, -2.75000000e-01,\n",
      "        4.50000000e-01, -5.00000000e-02, -3.23000000e-01]), {}) \n",
      "\n",
      "env.reset(seed=8)  (array([ 0.00000000e+00,  0.00000000e+00,  0.00000000e+00,  0.00000000e+00,\n",
      "        0.00000000e+00,  0.00000000e+00,  0.00000000e+00, -1.81289162e-03,\n",
      "        2.88548936e-03,  3.69896512e-03, -1.08915193e-03, -6.21181269e-04,\n",
      "       -1.27251097e-03, -3.93046404e-03,  8.21000000e-01, -6.00000000e-01,\n",
      "        0.00000000e+00,  6.44910737e-01, -2.51908317e-01, -2.75000000e-01,\n",
      "        4.50000000e-01, -5.00000000e-02, -3.23000000e-01]), {}) \n",
      "\n",
      "env.reset(seed=15)  (array([ 0.00000000e+00,  0.00000000e+00,  0.00000000e+00,  0.00000000e+00,\n",
      "        0.00000000e+00,  0.00000000e+00,  0.00000000e+00,  7.15972570e-04,\n",
      "       -3.53754573e-03,  2.18771377e-03, -1.54643496e-03, -4.29903244e-04,\n",
      "        4.75937887e-03,  2.81466028e-03,  8.21000000e-01, -6.00000000e-01,\n",
      "        0.00000000e+00,  2.67935270e-01, -2.46677973e-01, -2.75000000e-01,\n",
      "        4.50000000e-01, -5.00000000e-02, -3.23000000e-01]), {}) \n",
      "\n"
     ]
    }
   ],
   "source": [
    "env = gym.make(\"Pusher-v5\")\n",
    "\n",
    "print(\"env.reset(seed=0) \", env.reset(seed=0), \"\\n\")\n",
    "\n",
    "print(\"env.reset(seed=8) \", env.reset(seed=8), \"\\n\")\n",
    "\n",
    "print(\"env.reset(seed=15) \", env.reset(seed=15), \"\\n\")\n",
    "\n"
   ]
  }
 ],
 "metadata": {
  "kernelspec": {
   "display_name": "base",
   "language": "python",
   "name": "python3"
  },
  "language_info": {
   "codemirror_mode": {
    "name": "ipython",
    "version": 3
   },
   "file_extension": ".py",
   "mimetype": "text/x-python",
   "name": "python",
   "nbconvert_exporter": "python",
   "pygments_lexer": "ipython3",
   "version": "3.11.7"
  }
 },
 "nbformat": 4,
 "nbformat_minor": 5
}
