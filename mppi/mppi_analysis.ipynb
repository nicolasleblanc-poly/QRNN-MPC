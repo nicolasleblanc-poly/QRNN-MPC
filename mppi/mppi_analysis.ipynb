{
 "cells": [
  {
   "cell_type": "code",
   "execution_count": 11,
   "id": "813e7492",
   "metadata": {},
   "outputs": [],
   "source": [
    "import numpy as np\n",
    "import matplotlib.pyplot as plt"
   ]
  },
  {
   "cell_type": "code",
   "execution_count": 14,
   "id": "f2ba6e3c",
   "metadata": {},
   "outputs": [
    {
     "data": {
      "text/plain": [
       "NpzFile 'C:\\\\Users\\\\nicle\\\\Desktop\\\\QRNN-MPC\\\\mppi\\\\Pendulum_MPPI_results.npz' with keys: episode_rewards, mean_rewards, std_rewards, arr_0"
      ]
     },
     "execution_count": 14,
     "metadata": {},
     "output_type": "execute_result"
    }
   ],
   "source": [
    "PE_mppi"
   ]
  },
  {
   "cell_type": "code",
   "execution_count": 12,
   "id": "9997afa0",
   "metadata": {},
   "outputs": [],
   "source": [
    "PE_mppi = np.load(\"C:\\\\Users\\\\nicle\\\\Desktop\\\\QRNN-MPC\\\\mppi\\\\Pendulum_MPPI_results.npz\")#['mean_reward']\n",
    "MCC_mppi = np.load(\"C:\\\\Users\\\\nicle\\\\Desktop\\\\QRNN-MPC\\\\mppi\\\\MountainCarContinuous_MPPI_results.npz\")#['mean_reward']\n"
   ]
  },
  {
   "cell_type": "code",
   "execution_count": null,
   "id": "06ce19fb",
   "metadata": {},
   "outputs": [
    {
     "data": {
      "text/plain": [
       "(array([-503.14744847, -465.96494679, -296.22635609]), array([-0.02994056]))"
      ]
     },
     "execution_count": 13,
     "metadata": {},
     "output_type": "execute_result"
    }
   ],
   "source": [
    "PE_mppi['episode_rewards'], MCC_mppi['episode_rewards'']\n"
   ]
  }
 ],
 "metadata": {
  "kernelspec": {
   "display_name": "base",
   "language": "python",
   "name": "python3"
  },
  "language_info": {
   "codemirror_mode": {
    "name": "ipython",
    "version": 3
   },
   "file_extension": ".py",
   "mimetype": "text/x-python",
   "name": "python",
   "nbconvert_exporter": "python",
   "pygments_lexer": "ipython3",
   "version": "3.11.7"
  }
 },
 "nbformat": 4,
 "nbformat_minor": 5
}
