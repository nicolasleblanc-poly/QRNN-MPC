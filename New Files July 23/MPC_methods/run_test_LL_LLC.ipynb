{
 "cells": [
  {
   "cell_type": "code",
   "execution_count": 28,
   "id": "a46a0539",
   "metadata": {},
   "outputs": [],
   "source": [
    "import numpy as np\n",
    "import matplotlib.pyplot as plt\n",
    "import gymnasium as gym\n",
    "import torch\n",
    "\n",
    "import torch.optim as optim\n",
    "\n",
    "from state_pred_models import NextStateQuantileNetwork, quantile_loss, NextStateSinglePredNetwork, quantile_loss_median, mse_loss\n",
    "from setup import setup_class\n"
   ]
  },
  {
   "cell_type": "markdown",
   "id": "c7225120",
   "metadata": {},
   "source": [
    "## LL\n"
   ]
  },
  {
   "cell_type": "code",
   "execution_count": 29,
   "id": "98566609",
   "metadata": {},
   "outputs": [
    {
     "name": "stdout",
     "output_type": "stream",
     "text": [
      "prob  LunarLander \n",
      "\n"
     ]
    }
   ],
   "source": [
    "# Problem setup\n",
    "prob = \"LunarLander\"\n",
    "\n",
    "print(\"prob \", prob, \"\\n\")\n",
    "prob_vars = setup_class(prob)"
   ]
  },
  {
   "cell_type": "code",
   "execution_count": 30,
   "id": "932d9a48",
   "metadata": {},
   "outputs": [],
   "source": [
    "model_QRNN = NextStateQuantileNetwork(prob_vars.state_dim, prob_vars.action_dim, prob_vars.num_quantiles)\n",
    "optimizer_QRNN = optim.Adam(model_QRNN.parameters(), lr=1e-3)\n",
    "\n"
   ]
  },
  {
   "cell_type": "code",
   "execution_count": 31,
   "id": "42247716",
   "metadata": {},
   "outputs": [
    {
     "data": {
      "text/plain": [
       "torch.Size([1, 11, 8])"
      ]
     },
     "execution_count": 31,
     "metadata": {},
     "output_type": "execute_result"
    }
   ],
   "source": [
    "# Reload model parameters and optimizer state\n",
    "checkpoint = torch.load('C:\\\\Users\\\\nicle\\\\Desktop\\\\QRNN-MPC\\\\Files\\\\saved_model_LunarLander.pth')\n",
    "# checkpoint = torch.load('C:\\\\Users\\\\nicle\\\\Desktop\\\\QRNN-MPC\\\\Files\\\\saved_model_LunarLanderContinuous.pth')\n",
    "model_QRNN.load_state_dict(checkpoint['model_QRNN_state_dict'])\n",
    "optimizer_QRNN.load_state_dict(checkpoint['optimizer_QRNN_state_dict'])\n",
    "\n",
    "# After loading, switch model to evaluation mode\n",
    "model_QRNN.eval()\n",
    "\n",
    "\n",
    "model_QRNN(torch.tensor(prob_vars.state_dim * [0.0], dtype=torch.float32).unsqueeze(0),\n",
    "           torch.tensor(prob_vars.action_dim * [0.0], dtype=torch.float32).unsqueeze(0)).shape\n",
    "\n"
   ]
  },
  {
   "cell_type": "code",
   "execution_count": 32,
   "id": "f910b74f",
   "metadata": {},
   "outputs": [
    {
     "data": {
      "text/plain": [
       "tensor([ 0.0058, -0.0110,  0.0230, -0.0234,  0.0059,  0.0456,  0.0007, -0.0003],\n",
       "       grad_fn=<SliceBackward0>)"
      ]
     },
     "execution_count": 32,
     "metadata": {},
     "output_type": "execute_result"
    }
   ],
   "source": [
    "model_QRNN(torch.tensor(prob_vars.state_dim * [0.0], dtype=torch.float32).unsqueeze(0),\n",
    "           torch.tensor(prob_vars.action_dim * [0.0], dtype=torch.float32).unsqueeze(0))[0, 5, :]\n"
   ]
  },
  {
   "cell_type": "markdown",
   "id": "5edecea7",
   "metadata": {},
   "source": [
    "## LLC\n",
    "\n"
   ]
  },
  {
   "cell_type": "code",
   "execution_count": 33,
   "id": "0eece0b0",
   "metadata": {},
   "outputs": [
    {
     "name": "stdout",
     "output_type": "stream",
     "text": [
      "prob  LunarLanderContinuous \n",
      "\n",
      "all methods \n",
      "\n"
     ]
    }
   ],
   "source": [
    "# Problem setup\n",
    "prob = \"LunarLanderContinuous\"\n",
    "\n",
    "print(\"prob \", prob, \"\\n\")\n",
    "print(\"all methods \\n\")\n",
    "# print(\"method_name \", method_name, \"\\n\")\n",
    "\n",
    "prob_vars = setup_class(prob)\n"
   ]
  },
  {
   "cell_type": "code",
   "execution_count": 34,
   "id": "5313ac95",
   "metadata": {},
   "outputs": [],
   "source": [
    "model_QRNN = NextStateQuantileNetwork(prob_vars.state_dim, prob_vars.action_dim, prob_vars.num_quantiles)\n",
    "optimizer_QRNN = optim.Adam(model_QRNN.parameters(), lr=1e-3)\n",
    "\n"
   ]
  },
  {
   "cell_type": "code",
   "execution_count": 35,
   "id": "fd279015",
   "metadata": {},
   "outputs": [
    {
     "data": {
      "text/plain": [
       "NextStateQuantileNetwork(\n",
       "  (layer1): Linear(in_features=10, out_features=256, bias=True)\n",
       "  (layer2): Linear(in_features=256, out_features=256, bias=True)\n",
       "  (layer3): Linear(in_features=256, out_features=88, bias=True)\n",
       ")"
      ]
     },
     "execution_count": 35,
     "metadata": {},
     "output_type": "execute_result"
    }
   ],
   "source": [
    "# Reload model parameters and optimizer state\n",
    "# checkpoint = torch.load('C:\\\\Users\\\\nicle\\\\Desktop\\\\QRNN-MPC\\\\Files\\\\saved_model_LunarLander.pth')\n",
    "checkpoint = torch.load('C:\\\\Users\\\\nicle\\\\Desktop\\\\QRNN-MPC\\\\Files\\\\saved_model_LunarLanderContinuous.pth')\n",
    "model_QRNN.load_state_dict(checkpoint['model_QRNN_state_dict'])\n",
    "optimizer_QRNN.load_state_dict(checkpoint['optimizer_QRNN_state_dict'])\n",
    "\n",
    "# After loading, switch model to evaluation mode\n",
    "model_QRNN.eval()\n",
    "\n"
   ]
  },
  {
   "cell_type": "code",
   "execution_count": 36,
   "id": "15ff21f6",
   "metadata": {},
   "outputs": [
    {
     "data": {
      "text/plain": [
       "torch.Size([1, 11, 8])"
      ]
     },
     "execution_count": 36,
     "metadata": {},
     "output_type": "execute_result"
    }
   ],
   "source": [
    "model_QRNN(torch.tensor(prob_vars.state_dim * [0.0], dtype=torch.float32).unsqueeze(0),\n",
    "           torch.tensor(prob_vars.action_dim * [0.0], dtype=torch.float32).unsqueeze(0)).shape\n",
    "\n"
   ]
  },
  {
   "cell_type": "code",
   "execution_count": 37,
   "id": "459f5603",
   "metadata": {},
   "outputs": [
    {
     "data": {
      "text/plain": [
       "tensor([-0.0008,  0.0108, -0.0131, -0.0056,  0.0081, -0.0018, -0.0008, -0.0007],\n",
       "       grad_fn=<SliceBackward0>)"
      ]
     },
     "execution_count": 37,
     "metadata": {},
     "output_type": "execute_result"
    }
   ],
   "source": [
    "model_QRNN(torch.tensor(prob_vars.state_dim * [0.0], dtype=torch.float32).unsqueeze(0),\n",
    "           torch.tensor(prob_vars.action_dim * [0.0], dtype=torch.float32).unsqueeze(0))[0, 5, :]\n"
   ]
  }
 ],
 "metadata": {
  "kernelspec": {
   "display_name": "base",
   "language": "python",
   "name": "python3"
  },
  "language_info": {
   "codemirror_mode": {
    "name": "ipython",
    "version": 3
   },
   "file_extension": ".py",
   "mimetype": "text/x-python",
   "name": "python",
   "nbconvert_exporter": "python",
   "pygments_lexer": "ipython3",
   "version": "3.11.7"
  }
 },
 "nbformat": 4,
 "nbformat_minor": 5
}
