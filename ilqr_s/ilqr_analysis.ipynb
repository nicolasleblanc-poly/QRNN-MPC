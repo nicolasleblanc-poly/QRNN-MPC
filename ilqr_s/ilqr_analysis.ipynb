{
 "cells": [
  {
   "cell_type": "code",
   "execution_count": 3,
   "id": "03ec9397",
   "metadata": {},
   "outputs": [],
   "source": [
    "import numpy as np\n",
    "import matplotlib.pyplot as plt\n",
    "import gymnasium as gym\n"
   ]
  },
  {
   "cell_type": "code",
   "execution_count": 9,
   "id": "f514e8f4",
   "metadata": {},
   "outputs": [
    {
     "name": "stdout",
     "output_type": "stream",
     "text": [
      "[0.41675545 1.33538122 0.60999456 1.9242259  1.87234134 0.25778801\n",
      " 0.09118563 1.37928905 0.77803412 0.93812236]\n",
      "[0.60999456 1.9242259  1.87234134 0.25778801 0.09118563 1.37928905\n",
      " 0.77803412 0.93812236 0.77803412 0.93812236]\n"
     ]
    }
   ],
   "source": [
    "actions = np.random.uniform(0, 2, size=(10))\n",
    "print(actions)\n",
    "action_dim = 2\n",
    "actions[:-action_dim] =  actions[action_dim:]\n",
    "print(actions)"
   ]
  },
  {
   "cell_type": "markdown",
   "id": "70353349",
   "metadata": {},
   "source": [
    "## Set env state tests\n",
    "\n"
   ]
  },
  {
   "cell_type": "markdown",
   "id": "74f9f4ae",
   "metadata": {},
   "source": [
    "### Inverted pendulum\n"
   ]
  },
  {
   "cell_type": "code",
   "execution_count": 10,
   "id": "a9b4e1c1",
   "metadata": {},
   "outputs": [
    {
     "name": "stdout",
     "output_type": "stream",
     "text": [
      "init_state  [-0.00821957 -0.00889434 -0.00226724 -0.0040572 ] \n",
      "\n",
      "state  [-0.01473508  0.0056558  -0.32265582  0.72422381] \n",
      "\n",
      "True\n",
      "[-0.01473508  0.0056558 ] [-0.32265582  0.72422381]\n",
      "[-0.01473508  0.0056558  -0.32265582  0.72422381]\n"
     ]
    }
   ],
   "source": [
    "import gymnasium as gym\n",
    "import numpy as np\n",
    "\n",
    "env = gym.make(\"InvertedPendulum-v5\")\n",
    "init_state, info = env.reset()\n",
    "print(\"init_state \", init_state, \"\\n\")\n",
    "state, action, terminated, truncated, info = env.step(env.action_space.sample())\n",
    "# x = state[0], state[1]\n",
    "print(\"state \", state, \"\\n\")\n",
    "# # Temporarily set the environment's state to `x`\n",
    "env.unwrapped.set_state(state[:2], state[2:])  # For InvertedPendulum: (qpos, qvel)\n",
    "# # Check if the state has been set correctly\n",
    "# Verify state was set correctly\n",
    "current_qpos = env.unwrapped.data.qpos.copy()\n",
    "current_qvel = env.unwrapped.data.qvel.copy()\n",
    "assert np.allclose(current_qpos, state[:2]), \"qpos mismatch!\"\n",
    "assert np.allclose(current_qvel, state[2:]), \"qvel mismatch!\"\n",
    "\n",
    "print(hasattr(env.unwrapped, \"set_state\"))  # Should print True\n",
    "print(current_qpos, current_qvel)\n",
    "print(state)\n"
   ]
  },
  {
   "cell_type": "code",
   "execution_count": 11,
   "id": "75ff86d4",
   "metadata": {},
   "outputs": [
    {
     "data": {
      "text/plain": [
       "<TimeLimit<OrderEnforcing<PassiveEnvChecker<InvertedPendulumEnv instance>>>>"
      ]
     },
     "execution_count": 11,
     "metadata": {},
     "output_type": "execute_result"
    }
   ],
   "source": [
    "import copy\n",
    "env_copy = copy.deepcopy(env)\n",
    "env_copy"
   ]
  },
  {
   "cell_type": "markdown",
   "id": "181bf415",
   "metadata": {},
   "source": [
    "### Lunar lander\n"
   ]
  },
  {
   "cell_type": "code",
   "execution_count": 13,
   "id": "f16f0746",
   "metadata": {},
   "outputs": [],
   "source": [
    "env = gym.make(\"LunarLander-v3\", continuous=True, render_mode=\"human\")\n",
    "env.reset(seed=0)\n",
    "for _ in range(100):\n",
    "    env.step(env.action_space.sample())\n",
    "    \n",
    "env.close()"
   ]
  },
  {
   "cell_type": "code",
   "execution_count": 14,
   "id": "dd32edfc",
   "metadata": {},
   "outputs": [],
   "source": [
    "env = gym.make(\"LunarLander-v3\", continuous=True, render_mode=\"human\")\n",
    "env.reset(seed=8)\n",
    "for _ in range(100):\n",
    "    env.step(env.action_space.sample())\n",
    "    \n",
    "env.close()"
   ]
  },
  {
   "cell_type": "code",
   "execution_count": 12,
   "id": "5f30728e",
   "metadata": {},
   "outputs": [
    {
     "name": "stdout",
     "output_type": "stream",
     "text": [
      "(array([ 0.00570612,  1.3990337 ,  0.5779653 , -0.5282997 , -0.0066053 ,\n",
      "       -0.13091765,  0.        ,  0.        ], dtype=float32), {})\n",
      "b2Vec2(10.0571,13.2602) b2Vec2(2.88983,-3.96225) -0.006605303846299648 -0.32729414105415344\n"
     ]
    }
   ],
   "source": [
    "env = gym.make(\"LunarLander-v3\", continuous=True)\n",
    "env = env.unwrapped\n",
    "env.reset(seed=0)\n",
    "print(env.reset(seed=0))\n",
    "print(env.lander.position, env.lander.linearVelocity, env.lander.angle, env.lander.angularVelocity)\n",
    "\n"
   ]
  },
  {
   "cell_type": "markdown",
   "id": "93fc9df1",
   "metadata": {},
   "source": [
    "### MuJoCo reacher\n"
   ]
  },
  {
   "cell_type": "code",
   "execution_count": 13,
   "id": "c02b12ab",
   "metadata": {},
   "outputs": [
    {
     "name": "stdout",
     "output_type": "stream",
     "text": [
      "Initial state: [ 9.99624853e-01  9.98940224e-01  2.73889120e-02 -4.60263911e-02\n",
      "  4.26543103e-02  9.17986244e-02  4.36249915e-04  4.35072424e-03\n",
      "  1.67289045e-01 -9.11111494e-02] \n",
      "\n"
     ]
    },
    {
     "ename": "IndexError",
     "evalue": "index 0 is out of bounds for axis 0 with size 0",
     "output_type": "error",
     "traceback": [
      "\u001b[1;31m---------------------------------------------------------------------------\u001b[0m",
      "\u001b[1;31mIndexError\u001b[0m                                Traceback (most recent call last)",
      "Cell \u001b[1;32mIn[13], line 9\u001b[0m\n\u001b[0;32m      7\u001b[0m qpos_og \u001b[38;5;241m=\u001b[39m env\u001b[38;5;241m.\u001b[39munwrapped\u001b[38;5;241m.\u001b[39mdata\u001b[38;5;241m.\u001b[39mqpos\u001b[38;5;241m.\u001b[39mcopy()\n\u001b[0;32m      8\u001b[0m qvel_og \u001b[38;5;241m=\u001b[39m env\u001b[38;5;241m.\u001b[39munwrapped\u001b[38;5;241m.\u001b[39mdata\u001b[38;5;241m.\u001b[39mqvel\u001b[38;5;241m.\u001b[39mcopy()\n\u001b[1;32m----> 9\u001b[0m target_pos_og \u001b[38;5;241m=\u001b[39m env\u001b[38;5;241m.\u001b[39munwrapped\u001b[38;5;241m.\u001b[39mmodel\u001b[38;5;241m.\u001b[39msite_pos[\u001b[38;5;241m0\u001b[39m]\u001b[38;5;241m.\u001b[39mcopy()\n\u001b[0;32m     10\u001b[0m \u001b[38;5;28mprint\u001b[39m(\u001b[38;5;124m\"\u001b[39m\u001b[38;5;124mInitial qpos:\u001b[39m\u001b[38;5;124m\"\u001b[39m, qpos_og, \u001b[38;5;124m\"\u001b[39m\u001b[38;5;130;01m\\n\u001b[39;00m\u001b[38;5;124m\"\u001b[39m)\n\u001b[0;32m     11\u001b[0m \u001b[38;5;28mprint\u001b[39m(\u001b[38;5;124m\"\u001b[39m\u001b[38;5;124mInitial qvel:\u001b[39m\u001b[38;5;124m\"\u001b[39m, qvel_og, \u001b[38;5;124m\"\u001b[39m\u001b[38;5;130;01m\\n\u001b[39;00m\u001b[38;5;124m\"\u001b[39m)\n",
      "\u001b[1;31mIndexError\u001b[0m: index 0 is out of bounds for axis 0 with size 0"
     ]
    }
   ],
   "source": [
    "import gymnasium as gym\n",
    "import numpy as np\n",
    "\n",
    "env = gym.make(\"Reacher-v5\")\n",
    "state, info = env.reset(seed=0)\n",
    "print(\"Initial state:\", state, \"\\n\")\n",
    "qpos_og = env.unwrapped.data.qpos.copy()\n",
    "qvel_og = env.unwrapped.data.qvel.copy()\n",
    "target_pos_og = env.unwrapped.model.site_pos[0].copy()\n",
    "print(\"Initial qpos:\", qpos_og, \"\\n\")\n",
    "print(\"Initial qvel:\", qvel_og, \"\\n\")\n",
    "print(\"target_pos \", target_pos_og, \"\\n\")\n",
    "\n",
    "# Step once\n",
    "next_state, _, _, _, _ = env.step(env.action_space.sample())\n",
    "\n",
    "# Reacher has:\n",
    "# qpos = [theta1, theta2, fingertip_x, fingertip_y]\n",
    "# qvel = [theta1_dot, theta2_dot]\n",
    "\n",
    "# We only care about the joint angles and velocities for setting state\n",
    "qpos = env.unwrapped.data.qpos.copy()\n",
    "qvel = env.unwrapped.data.qvel.copy()\n",
    "env.unwrapped.model.site_pos[0] = target_pos_og  # Manually set target position\n",
    "\n",
    "print(\"New qpos:\", qpos)\n",
    "print(\"New qvel:\", qvel)\n",
    "\n",
    "# Now set state back\n",
    "env.unwrapped.set_state(qpos_og, qvel_og)\n",
    "\n",
    "# Verify\n",
    "assert np.allclose(env.unwrapped.data.qpos, qpos_og)\n",
    "assert np.allclose(env.unwrapped.data.qvel, qvel_og)\n",
    "assert np.allclose(env.unwrapped.model.site_pos[0], target_pos_og)\n",
    "\n",
    "print(\"env.unwrapped.data.qpos \", env.unwrapped.data.qpos)\n",
    "print(\"env.unwrapped.data.qvel \", env.unwrapped.data.qvel)\n",
    "print(\"env.unwrapped.model.site_pos[0] \", env.unwrapped.model.site_pos[0])\n",
    "\n",
    "print(\"Reacher state reset successfully.\")\n"
   ]
  },
  {
   "cell_type": "markdown",
   "id": "186889f1",
   "metadata": {},
   "source": [
    "### Panda reach\n"
   ]
  },
  {
   "cell_type": "code",
   "execution_count": null,
   "id": "5e45369d",
   "metadata": {},
   "outputs": [],
   "source": [
    "# import gymnasium as gym\n",
    "# import numpy as np\n",
    "\n",
    "# import panda_gym\n",
    "\n",
    "# env = gym.make(\"PandaReachDense-v3\", render_mode=\"human\")\n",
    "# env = env.unwrapped\n",
    "# observation, _ = env.reset()\n",
    "\n",
    "# for _ in range(1000):\n",
    "#     state_id = env.save_state()\n",
    "\n",
    "#     # Sample 5 actions and choose the one that yields the best reward.\n",
    "#     best_reward = -np.inf\n",
    "#     best_action = None\n",
    "#     for _ in range(5):\n",
    "#         env.restore_state(state_id)\n",
    "#         action = env.action_space.sample()\n",
    "#         observation, reward, _, _, _ = env.step(action)\n",
    "#         if reward > best_reward:\n",
    "#             best_reward = reward\n",
    "#             best_action = action\n",
    "\n",
    "#     env.restore_state(state_id)\n",
    "#     env.remove_state(state_id)  # discard the state, as it is no longer needed\n",
    "\n",
    "#     # Step with the best action\n",
    "#     observation, reward, terminated, truncated, info = env.step(best_action)\n",
    "\n",
    "#     if terminated:\n",
    "#         observation, info = env.reset()\n",
    "\n",
    "# env.close()"
   ]
  },
  {
   "cell_type": "code",
   "execution_count": null,
   "id": "aa910e1d",
   "metadata": {},
   "outputs": [
    {
     "name": "stdout",
     "output_type": "stream",
     "text": [
      "Initial state: {'observation': array([ 3.8439669e-02, -2.1944723e-12,  1.9740014e-01,  0.0000000e+00,\n",
      "       -0.0000000e+00,  0.0000000e+00], dtype=float32), 'achieved_goal': array([ 3.8439669e-02, -2.1944723e-12,  1.9740014e-01], dtype=float32), 'desired_goal': array([ 0.04108851, -0.06906398,  0.01229206], dtype=float32)} \n",
      "\n",
      "Next state: {'observation': array([ 0.02517934, -0.01980565,  0.16913602, -0.4719718 , -0.43623236,\n",
      "       -0.82817054], dtype=float32), 'achieved_goal': array([ 0.02517934, -0.01980565,  0.16913602], dtype=float32), 'desired_goal': array([ 0.04108851, -0.06906398,  0.01229206], dtype=float32)} \n",
      "\n",
      "{'observation': array([ 3.8439669e-02, -2.1944723e-12,  1.9740014e-01,  0.0000000e+00,\n",
      "       -0.0000000e+00,  0.0000000e+00], dtype=float32), 'achieved_goal': array([ 3.8439669e-02, -2.1944723e-12,  1.9740014e-01], dtype=float32), 'desired_goal': array([ 0.04108851, -0.06906398,  0.01229206], dtype=float32)}\n"
     ]
    }
   ],
   "source": [
    "import gymnasium as gym\n",
    "import panda_gym\n",
    "\n",
    "env = gym.make(\"PandaReach-v3\")\n",
    "env = env.unwrapped\n",
    "state, info = env.reset(seed=0)\n",
    "print(\"Initial state:\", state, \"\\n\")\n",
    "\n",
    "state_id = env.save_state()\n",
    "\n",
    "next_state, reward, terminated, truncated, info = env.step(env.action_space.sample())\n",
    "print(\"Next state:\", next_state, \"\\n\")\n",
    "\n",
    "env.restore_state(state_id)\n",
    "env.remove_state(state_id)\n",
    "# print(env.__getstate__())\n",
    "print(env._get_obs())\n",
    "\n"
   ]
  },
  {
   "cell_type": "markdown",
   "id": "440896a4",
   "metadata": {},
   "source": [
    "## Graphs\n"
   ]
  },
  {
   "cell_type": "code",
   "execution_count": 15,
   "id": "f5e06f9f",
   "metadata": {},
   "outputs": [],
   "source": [
    "# PE_ilqr = np.load(\"C:\\\\Users\\\\nicle\\\\Desktop\\\\QRNN-MPC\\\\ilqr\\\\Pendulum_iLQR_results.npz\")\n",
    "PE_ilqr = np.load(\"C:\\\\Users\\\\nicle\\\\Desktop\\\\QRNN-MPC\\\\ilqr_s\\\\Pendulum_iLQR_results.npz\")\n",
    "\n",
    "\n"
   ]
  },
  {
   "cell_type": "code",
   "execution_count": null,
   "id": "2a2c0743",
   "metadata": {},
   "outputs": [
    {
     "data": {
      "text/plain": [
       "[<matplotlib.lines.Line2D at 0x20069f4ba90>]"
      ]
     },
     "execution_count": 4,
     "metadata": {},
     "output_type": "execute_result"
    },
    {
     "data": {
      "image/png": "[encoded data removed]",
      "text/plain": [
       "<Figure size 640x480 with 1 Axes>"
      ]
     },
     "metadata": {},
     "output_type": "display_data"
    }
   ],
   "source": [
    "plt.plot(PE_ilqr['mean_rewards'])\n",
    "\n"
   ]
  },
  {
   "cell_type": "code",
   "execution_count": 17,
   "id": "6ef5d810",
   "metadata": {},
   "outputs": [
    {
     "data": {
      "text/plain": [
       "[<matplotlib.lines.Line2D at 0x11c22cb2a90>]"
      ]
     },
     "execution_count": 17,
     "metadata": {},
     "output_type": "execute_result"
    },
    {
     "data": {
      "image/png": "[encoded data removed]",
      "text/plain": [
       "<Figure size 640x480 with 1 Axes>"
      ]
     },
     "metadata": {},
     "output_type": "display_data"
    }
   ],
   "source": [
    "MCC_ilqr = np.load(\"C:\\\\Users\\\\nicle\\\\Desktop\\\\QRNN-MPC\\\\ilqr_s\\\\MountainCarContinuous_iLQR_results.npz\")\n",
    "\n",
    "plt.plot(MCC_ilqr['mean_rewards'])"
   ]
  },
  {
   "cell_type": "code",
   "execution_count": 18,
   "id": "a82b846b",
   "metadata": {},
   "outputs": [
    {
     "data": {
      "text/plain": [
       "array([-11.3879373 , -11.38780132, -11.38779843, -11.38779848,\n",
       "       -11.38779847, -11.38779847, -11.38779847, -11.38779847,\n",
       "       -11.38779847, -11.38779847, -11.38779847, -11.38779847,\n",
       "       -11.38779847, -11.38779847, -11.38779847, -11.38779847,\n",
       "       -11.38779847, -11.38779847, -11.38779847, -11.38779847,\n",
       "       -11.38779847, -11.38779847, -11.38779847, -11.38779847,\n",
       "       -11.38779847, -11.38779847, -11.38779847, -11.38779847,\n",
       "       -11.38779847, -11.38779847, -11.38779847, -11.38779847,\n",
       "       -11.38779847, -11.38779847, -11.38779847, -11.38779847,\n",
       "       -11.38779847, -11.38779847, -11.38779847, -11.38779847,\n",
       "       -11.38779847, -11.38779847, -11.38779847, -11.38779847,\n",
       "       -11.38779847, -11.38779847, -11.38779847, -11.38779847,\n",
       "       -11.38779847, -11.38779847, -11.38779847, -11.38779847,\n",
       "       -11.38779847, -11.38779847, -11.38779847, -11.38779847,\n",
       "       -11.38779847, -11.38779847, -11.38779847, -11.38779847,\n",
       "       -11.38779847, -11.38779847, -11.38779847, -11.38779847,\n",
       "       -11.38779847, -11.38779847, -11.38779847, -11.38779847,\n",
       "       -11.38779847, -11.38779847, -11.38779847, -11.38779847,\n",
       "       -11.38779847, -11.38779847, -11.38779847, -11.38779847,\n",
       "       -11.38779847, -11.38779847, -11.38779847, -11.38779847,\n",
       "       -11.38779847, -11.38779847, -11.38779847, -11.38779847,\n",
       "       -11.38779847, -11.38779847, -11.38779847, -11.38779847,\n",
       "       -11.38779847, -11.38779847, -11.38779847, -11.38779847,\n",
       "       -11.38779847, -11.38779847, -11.38779847, -11.38779847,\n",
       "       -11.38779847, -11.38779847, -11.38779847, -11.38779847,\n",
       "       -11.38779847, -11.38779847, -11.38779847, -11.38779847,\n",
       "       -11.38779847, -11.38779847, -11.38779847, -11.38779847,\n",
       "       -11.38779847, -11.38779847, -11.38779847, -11.38779847,\n",
       "       -11.38779847, -11.38779847, -11.38779847, -11.38779847,\n",
       "       -11.38779847, -11.38779847, -11.38779847, -11.38779847,\n",
       "       -11.38779847, -11.38779847, -11.38779847, -11.38779847,\n",
       "       -11.38779847, -11.38779847, -11.38779847, -11.38779847,\n",
       "       -11.38779847, -11.38779847, -11.38779847, -11.38779847,\n",
       "       -11.38779847, -11.38779847, -11.38779847, -11.38779847,\n",
       "       -11.38779847, -11.38779847, -11.38779847, -11.38779847,\n",
       "       -11.38779847, -11.38779847, -11.38779847, -11.38779847,\n",
       "       -11.38779847, -11.38779847, -11.38779847, -11.38779847,\n",
       "       -11.38779847, -11.38779847, -11.38779847, -11.38779847,\n",
       "       -11.38779847, -11.38779847, -11.38779847, -11.38779847,\n",
       "       -11.38779847, -11.38779847, -11.38779847, -11.38779847,\n",
       "       -11.38779847, -11.38779847, -11.38779847, -11.38779847,\n",
       "       -11.38779847, -11.38779847, -11.38779847, -11.38779847,\n",
       "       -11.38779847, -11.38779847, -11.38779847, -11.38779847,\n",
       "       -11.38779847, -11.38779847, -11.38779847, -11.38779847,\n",
       "       -11.38779847, -11.38779847, -11.38779847, -11.38779847,\n",
       "       -11.38779847, -11.38779847, -11.38779847, -11.38779847,\n",
       "       -11.38779847, -11.38779847, -11.38779847, -11.38779847,\n",
       "       -11.38779847, -11.38779847, -11.38779847, -11.38779847,\n",
       "       -11.38779847, -11.38779847, -11.38779847, -11.38779847,\n",
       "       -11.38779847, -11.38779847, -11.38779847, -11.38779847,\n",
       "       -11.38779847, -11.38779847, -11.38779847, -11.38779847,\n",
       "       -11.38779847, -11.38779847, -11.38779847, -11.38779847,\n",
       "       -11.38779847, -11.38779847, -11.38779847, -11.38779847,\n",
       "       -11.38779847, -11.38779847, -11.38779847, -11.38779847,\n",
       "       -11.38779847, -11.38779847, -11.38779847, -11.38779847,\n",
       "       -11.38779847, -11.38779847, -11.38779847, -11.38779847,\n",
       "       -11.38779847, -11.38779847, -11.38779847, -11.38779847,\n",
       "       -11.38779847, -11.38779847, -11.38779847, -11.38779847,\n",
       "       -11.38779847, -11.38779847, -11.38779847, -11.38779847,\n",
       "       -11.38779847, -11.38779847, -11.38779847, -11.38779847,\n",
       "       -11.38779847, -11.38779847, -11.38779847, -11.38779847,\n",
       "       -11.38779847, -11.38779847, -11.38779847, -11.38779847,\n",
       "       -11.38779847, -11.38779847, -11.38779847, -11.38779847,\n",
       "       -11.38779847, -11.38779847, -11.38779847, -11.38779847,\n",
       "       -11.38779847, -11.38779847, -11.38779847, -11.38779847,\n",
       "       -11.38779847, -11.38779847, -11.38779847, -11.38779847,\n",
       "       -11.38779847, -11.38779847, -11.38779847, -11.38779847,\n",
       "       -11.38779847, -11.38779847, -11.38779847, -11.38779847,\n",
       "       -11.38779847, -11.38779847, -11.38779847, -11.38779847,\n",
       "       -11.38779847, -11.38779847, -11.38779847, -11.38779847,\n",
       "       -11.38779847, -11.38779847, -11.38779847, -11.38779847,\n",
       "       -11.38779847, -11.38779847, -11.38779847, -11.38779847,\n",
       "       -11.38779847, -11.38779847, -11.38779847, -11.38779847,\n",
       "       -11.38779847, -11.38779847, -11.38779847, -11.38779847,\n",
       "       -11.38779847, -11.38779847, -11.38779847, -11.38779847])"
      ]
     },
     "execution_count": 18,
     "metadata": {},
     "output_type": "execute_result"
    }
   ],
   "source": [
    "MCC_ilqr['mean_rewards']"
   ]
  },
  {
   "cell_type": "code",
   "execution_count": null,
   "id": "7b4b60a3",
   "metadata": {},
   "outputs": [],
   "source": []
  }
 ],
 "metadata": {
  "kernelspec": {
   "display_name": "base",
   "language": "python",
   "name": "python3"
  },
  "language_info": {
   "codemirror_mode": {
    "name": "ipython",
    "version": 3
   },
   "file_extension": ".py",
   "mimetype": "text/x-python",
   "name": "python",
   "nbconvert_exporter": "python",
   "pygments_lexer": "ipython3",
   "version": "3.11.7"
  }
 },
 "nbformat": 4,
 "nbformat_minor": 5
}
