{
 "cells": [
  {
   "cell_type": "code",
   "execution_count": 2,
   "id": "20b188ef",
   "metadata": {},
   "outputs": [],
   "source": [
    "import numpy as np\n",
    "import matplotlib.pyplot as plt\n"
   ]
  },
  {
   "cell_type": "code",
   "execution_count": 4,
   "id": "ee02da55",
   "metadata": {},
   "outputs": [
    {
     "data": {
      "text/plain": [
       "400"
      ]
     },
     "execution_count": 4,
     "metadata": {},
     "output_type": "execute_result"
    }
   ],
   "source": [
    "data = np.load('C:\\\\Users\\\\nicle\\\\Desktop\\\\QRNN-MPC\\\\Files\\\\CartPole_MPC_MSENN_ASGNN_mid_400episodes_results.npz')\n",
    "mean_rewards = data['mean_rewards']\n",
    "std_rewards = data['std_rewards']\n",
    "len(mean_rewards)"
   ]
  },
  {
   "cell_type": "code",
   "execution_count": 6,
   "id": "88fbb239",
   "metadata": {},
   "outputs": [
    {
     "data": {
      "text/plain": [
       "<matplotlib.collections.PolyCollection at 0x1ceb6bce150>"
      ]
     },
     "execution_count": 6,
     "metadata": {},
     "output_type": "execute_result"
    },
    {
     "data": {
      "image/png": "[encoded data removed]",
      "text/plain": [
       "<Figure size 640x480 with 1 Axes>"
      ]
     },
     "metadata": {},
     "output_type": "display_data"
    }
   ],
   "source": [
    "plt.plot(mean_rewards, label='Mean Rewards')\n",
    "plt.fill_between(range(len(mean_rewards)), mean_rewards - std_rewards, mean_rewards + std_rewards, alpha=0.2, label='Std Dev')\n"
   ]
  },
  {
   "cell_type": "code",
   "execution_count": null,
   "id": "22c760a5",
   "metadata": {},
   "outputs": [],
   "source": [
    "# Load all your data files\n",
    "data_files = {\n",
    "    '50NN_ASGNN': f'C:\\\\Users\\\\nicle\\\\Desktop\\\\GPBO-MBRL\\\\GP-MPC_NL\\\\PF_MPC_GP_Env\\\\ParallelOverParticles\\\\Jan24\\\\April 4th tests\\\\QRNN-MPC-main\\\\QRNN-MPC-main\\\\Files\\\\{prob}_MPC_50NN_ASGNN_mid_results.npz',\n",
    "    '50NN_basic': f'C:\\\\Users\\\\nicle\\\\Desktop\\\\GPBO-MBRL\\\\GP-MPC_NL\\\\PF_MPC_GP_Env\\\\ParallelOverParticles\\\\Jan24\\\\April 4th tests\\\\QRNN-MPC-main\\\\QRNN-MPC-main\\\\Files\\\\{prob}_MPC_50NN_basic_mid_results.npz',\n",
    "    '50NN_random': f'C:\\\\Users\\\\nicle\\\\Desktop\\\\GPBO-MBRL\\\\GP-MPC_NL\\\\PF_MPC_GP_Env\\\\ParallelOverParticles\\\\Jan24\\\\April 4th tests\\\\QRNN-MPC-main\\\\QRNN-MPC-main\\\\Files\\\\{prob}_MPC_50NN_random_mid_results.npz',\n",
    "    'MSENN_ASGNN': f'C:\\\\Users\\\\nicle\\\\Desktop\\\\GPBO-MBRL\\\\GP-MPC_NL\\\\PF_MPC_GP_Env\\\\ParallelOverParticles\\\\Jan24\\\\April 4th tests\\\\QRNN-MPC-main\\\\QRNN-MPC-main\\\\Files\\\\{prob}_MPC_MSENN_ASGNN_mid_results.npz',\n",
    "    'MSENN_basic': f'C:\\\\Users\\\\nicle\\\\Desktop\\\\GPBO-MBRL\\\\GP-MPC_NL\\\\PF_MPC_GP_Env\\\\ParallelOverParticles\\\\Jan24\\\\April 4th tests\\\\QRNN-MPC-main\\\\QRNN-MPC-main\\\\Files\\\\{prob}_MPC_MSENN_basic_mid_results.npz',\n",
    "    'MSENN_random': f'C:\\\\Users\\\\nicle\\\\Desktop\\\\GPBO-MBRL\\\\GP-MPC_NL\\\\PF_MPC_GP_Env\\\\ParallelOverParticles\\\\Jan24\\\\April 4th tests\\\\QRNN-MPC-main\\\\QRNN-MPC-main\\\\Files\\\\{prob}_MPC_MSENN_random_mid_results.npz',\n",
    "    'QRNN_ASGNN': f'C:\\\\Users\\\\nicle\\\\Desktop\\\\GPBO-MBRL\\\\GP-MPC_NL\\\\PF_MPC_GP_Env\\\\ParallelOverParticles\\\\Jan24\\\\April 4th tests\\\\QRNN-MPC-main\\\\QRNN-MPC-main\\\\Files\\\\{prob}_MPC_QRNN_ASGNN_mid_results.npz',\n",
    "    'QRNN_basic': f'C:\\\\Users\\\\nicle\\\\Desktop\\\\GPBO-MBRL\\\\GP-MPC_NL\\\\PF_MPC_GP_Env\\\\ParallelOverParticles\\\\Jan24\\\\April 4th tests\\\\QRNN-MPC-main\\\\QRNN-MPC-main\\\\Files\\\\{prob}_MPC_QRNN_basic_mid_results.npz',\n",
    "    'QRNN_random': f'C:\\\\Users\\\\nicle\\\\Desktop\\\\GPBO-MBRL\\\\GP-MPC_NL\\\\PF_MPC_GP_Env\\\\ParallelOverParticles\\\\Jan24\\\\April 4th tests\\\\QRNN-MPC-main\\\\QRNN-MPC-main\\\\Files\\\\{prob}_MPC_QRNN_random_mid_results.npz',\n",
    "    '50NN_RS': f'C:\\\\Users\\\\nicle\\\\Desktop\\\\GPBO-MBRL\\\\GP-MPC_NL\\\\PF_MPC_GP_Env\\\\ParallelOverParticles\\\\Jan24\\\\April 4th tests\\\\QRNN-MPC-main\\\\QRNN-MPC-main\\\\Files\\\\{prob}_RS_mid_50NN_results.npz',\n",
    "    'MSENN_RS': f'C:\\\\Users\\\\nicle\\\\Desktop\\\\GPBO-MBRL\\\\GP-MPC_NL\\\\PF_MPC_GP_Env\\\\ParallelOverParticles\\\\Jan24\\\\April 4th tests\\\\QRNN-MPC-main\\\\QRNN-MPC-main\\\\Files\\\\{prob}_RS_mid_MSENN_results.npz',\n",
    "    'QRNN_RS': f'C:\\\\Users\\\\nicle\\\\Desktop\\\\GPBO-MBRL\\\\GP-MPC_NL\\\\PF_MPC_GP_Env\\\\ParallelOverParticles\\\\Jan24\\\\April 4th tests\\\\QRNN-MPC-main\\\\QRNN-MPC-main\\\\Files\\\\{prob}_RS_mid_QRNN_results.npz',\n",
    "\n",
    "    'DQN': f'C:\\\\Users\\\\nicle\\\\Desktop\\\\GPBO-MBRL\\\\GP-MPC_NL\\\\PF_MPC_GP_Env\\\\ParallelOverParticles\\\\Jan24\\\\April 4th tests\\\\QRNN-MPC-main\\\\QRNN-MPC-main\\\\Files\\\\{prob}_DQN_results.npz',\n",
    "    'IV-DQN': f'C:\\\\Users\\\\nicle\\\\Desktop\\\\GPBO-MBRL\\\\GP-MPC_NL\\\\PF_MPC_GP_Env\\\\ParallelOverParticles\\\\Jan24\\\\April 4th tests\\\\QRNN-MPC-main\\\\QRNN-MPC-main\\\\Files\\\\{prob}_IV_DQN_results.npz',\n",
    "    'QR-DQN': f'C:\\\\Users\\\\nicle\\\\Desktop\\\\GPBO-MBRL\\\\GP-MPC_NL\\\\PF_MPC_GP_Env\\\\ParallelOverParticles\\\\Jan24\\\\April 4th tests\\\\QRNN-MPC-main\\\\QRNN-MPC-main\\\\Files\\\\{prob}_QR_DQN_results.npz',\n",
    "\n",
    "    'A2C': f'C:\\\\Users\\\\nicle\\\\Desktop\\\\GPBO-MBRL\\\\GP-MPC_NL\\\\PF_MPC_GP_Env\\\\ParallelOverParticles\\\\Jan24\\\\April 4th tests\\\\QRNN-MPC-main\\\\QRNN-MPC-main\\\\Files\\\\{prob}_A2C_results.npz',\n",
    "    'PPO': f'C:\\\\Users\\\\nicle\\\\Desktop\\\\GPBO-MBRL\\\\GP-MPC_NL\\\\PF_MPC_GP_Env\\\\ParallelOverParticles\\\\Jan24\\\\April 4th tests\\\\QRNN-MPC-main\\\\QRNN-MPC-main\\\\Files\\\\{prob}_PPO_results.npz',\n",
    "}\n",
    "\n",
    "\n",
    "# Choose a palette (e.g., 'deep', 'muted', 'bright', 'pastel', 'dark', 'colorblind')\n",
    "palette = sns.color_palette('husl', n_colors=len(data_files))  # 'husl' gives vibrant colors\n",
    "\n",
    "# Create a figure with a larger size to accommodate all the data\n",
    "plt.figure(figsize=(12, 8))\n",
    "\n",
    "# # Define a color cycle for better distinction\n",
    "# colors = plt.cm.tab20(np.linspace(0, 1, len(data_files)))\n",
    "\n",
    "# Plot each dataset\n",
    "for i, (label, filepath) in enumerate(data_files.items()):\n",
    "    data = np.load(filepath)\n",
    "    \n",
    "    # Assuming the keys are 'mean_episodic_returns' and 'std_episodic_returns'\n",
    "    # Adjust these if the keys are different in your files\n",
    "    mean_rewards = data['mean_rewards']\n",
    "    std_rewards = data['std_rewards']\n",
    "\n",
    "    dict_mean_episodic_returns[label] = np.mean(mean_rewards[:-10], axis=0)\n",
    "    dict_std_episodic_returns[label] = np.mean(std_rewards[:-10], axis=0)\n",
    "\n",
    "    print(\"len(mean_rewards) \", len(mean_rewards), \"\\n\")\n",
    "\n",
    "    dict_mean_episodic_returns[label] = np.mean(mean_rewards[:-10], axis=0)\n",
    "    dict_std_episodic_returns[label] = np.mean(std_rewards[:-10], axis=0)\n",
    "\n",
    "    smoothed_mean_rewards = pd.Series(mean_rewards).rolling(window=window_size).mean()\n",
    "    smoothed_std_rewards = pd.Series(std_rewards).rolling(window=window_size).std()\n",
    "\n",
    "    plt.plot(smoothed_mean_rewards, label=label, color=palette[i])\n",
    "    plt.fill_between(range(len(mean_rewards)), \n",
    "                     smoothed_mean_rewards - smoothed_std_rewards, \n",
    "                     smoothed_mean_rewards + smoothed_std_rewards, \n",
    "                     color=palette[i], alpha=0.2)\n",
    "\n",
    "# Add labels and title\n",
    "plt.xlabel('Episode')\n",
    "plt.ylabel('Mean Episodic Return')\n",
    "plt.title('Comparison of Different MPC Approaches')\n",
    "plt.legend(bbox_to_anchor=(1.05, 1), loc='upper left')  # Place legend outside the plot\n",
    "\n",
    "# Adjust layout to prevent clipping of labels\n",
    "plt.tight_layout()\n",
    "\n",
    "plt.show()"
   ]
  }
 ],
 "metadata": {
  "kernelspec": {
   "display_name": "Python 3",
   "language": "python",
   "name": "python3"
  },
  "language_info": {
   "codemirror_mode": {
    "name": "ipython",
    "version": 3
   },
   "file_extension": ".py",
   "mimetype": "text/x-python",
   "name": "python",
   "nbconvert_exporter": "python",
   "pygments_lexer": "ipython3",
   "version": "3.11.9"
  }
 },
 "nbformat": 4,
 "nbformat_minor": 5
}
