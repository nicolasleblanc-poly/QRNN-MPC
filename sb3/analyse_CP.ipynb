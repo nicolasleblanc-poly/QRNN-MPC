{
 "cells": [
  {
   "cell_type": "code",
   "execution_count": 2,
   "id": "e0a55f44",
   "metadata": {},
   "outputs": [
    {
     "name": "stdout",
     "output_type": "stream",
     "text": [
      "(100,)\n"
     ]
    }
   ],
   "source": [
    "import numpy as np \n",
    "\n",
    "A2C_res = np.load(\"CartPole_A2C_results.npz\")['mean_rewards']\n",
    "print(A2C_res.shape)\n",
    "\n"
   ]
  }
 ],
 "metadata": {
  "kernelspec": {
   "display_name": "base",
   "language": "python",
   "name": "python3"
  },
  "language_info": {
   "codemirror_mode": {
    "name": "ipython",
    "version": 3
   },
   "file_extension": ".py",
   "mimetype": "text/x-python",
   "name": "python",
   "nbconvert_exporter": "python",
   "pygments_lexer": "ipython3",
   "version": "3.11.7"
  }
 },
 "nbformat": 4,
 "nbformat_minor": 5
}
