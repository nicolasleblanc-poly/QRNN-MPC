{
 "cells": [
  {
   "cell_type": "code",
   "execution_count": 1,
   "id": "b17cb785",
   "metadata": {},
   "outputs": [],
   "source": [
    "import numpy as np\n",
    "import matplotlib.pyplot as plt\n",
    "from particle_filtering import particle_filtering_func, discrete_cem_func, continuous_cem_func\n",
    "from setup import setup_class\n",
    "import torch\n"
   ]
  },
  {
   "cell_type": "code",
   "execution_count": 2,
   "id": "14b49050",
   "metadata": {},
   "outputs": [
    {
     "name": "stdout",
     "output_type": "stream",
     "text": [
      "prob  Acrobot \n",
      "\n"
     ]
    }
   ],
   "source": [
    "# Problem setup\n",
    "# prob = \"CartPole\"\n",
    "prob = \"Acrobot\"\n",
    "# prob = \"MountainCar\"\n",
    "# prob = \"LunarLander\"\n",
    "# prob = \"Pendulum\"\n",
    "# prob = \"Pendulum_xyomega\"\n",
    "# prob = \"MountainCarContinuous\"\n",
    "# prob = \"LunarLanderContinuous\"\n",
    "# prob = \"PandaReacher\"\n",
    "# prob = \"PandaPusher\"\n",
    "# prob = \"MuJoCoReacher\"\n",
    "# prob = \"MuJoCoPusher\"\n",
    "\n",
    "print(\"prob \", prob, \"\\n\")\n",
    "\n",
    "\n",
    "prob_vars = setup_class(prob)\n"
   ]
  },
  {
   "cell_type": "markdown",
   "id": "81e40676",
   "metadata": {},
   "source": [
    "Test PF\n"
   ]
  },
  {
   "cell_type": "code",
   "execution_count": 3,
   "id": "8e4b45e4",
   "metadata": {},
   "outputs": [
    {
     "name": "stdout",
     "output_type": "stream",
     "text": [
      "prob_vars.horizon  30 \n",
      "\n",
      "particles shape  (100, 30) \n",
      "\n",
      "actions  [[1 1 0 ... 1 0 2]\n",
      " [0 1 2 ... 1 2 0]\n",
      " [1 1 0 ... 1 0 2]\n",
      " ...\n",
      " [2 0 0 ... 2 1 0]\n",
      " [2 2 2 ... 1 0 1]\n",
      " [0 0 1 ... 1 2 2]] \n",
      "\n",
      "best_first_action  1 \n",
      "\n",
      "actions shape  (100, 30) \n",
      "\n"
     ]
    }
   ],
   "source": [
    "if prob_vars.prob == \"CartPole\":\n",
    "    particles = np.random.randint(0, 2, (prob_vars.num_particles, prob_vars.horizon))\n",
    "elif prob_vars.prob == \"Acrobot\" or prob_vars.prob == \"MountainCar\":\n",
    "    particles = np.random.randint(0, 3, (prob_vars.num_particles, prob_vars.horizon))\n",
    "elif prob_vars.prob == \"LunarLander\":\n",
    "    particles = np.random.randint(0, 4, (prob_vars.num_particles, prob_vars.horizon))\n",
    "elif prob_vars.prob == \"PandaReacher\" or prob_vars.prob == \"MuJoCoReacher\" or prob_vars.prob == \"PandaPusher\" or prob_vars.prob == \"MuJoCoPusher\" or prob_vars.prob == \"LunarLanderContinuous\":\n",
    "    particles = np.random.uniform(prob_vars.action_low, prob_vars.action_high, (prob_vars.num_particles, prob_vars.action_dim*prob_vars.horizon))\n",
    "else: # Pendulum, MountainCarContinuous\n",
    "    particles = np.random.uniform(prob_vars.action_low, prob_vars.action_high, (prob_vars.num_particles, prob_vars.horizon))\n",
    "\n",
    "# num_particles = 30\n",
    "print(\"prob_vars.horizon \", prob_vars.horizon, \"\\n\")\n",
    "\n",
    "# if prob_vars.prob == \"CartPole\":\n",
    "#     particles = np.random.randint(0, 2, (num_particles, prob_vars.horizon))\n",
    "# elif prob_vars.prob == \"Acrobot\" or prob_vars.prob == \"MountainCar\":\n",
    "#     particles = np.random.randint(0, 3, (num_particles, prob_vars.horizon))\n",
    "# elif prob_vars.prob == \"LunarLander\":\n",
    "#     particles = np.random.randint(0, 4, (num_particles, prob_vars.horizon))\n",
    "# elif prob_vars.prob == \"PandaReacher\" or prob_vars.prob == \"MuJoCoReacher\" or prob_vars.prob == \"PandaPusher\" or prob_vars.prob == \"MuJoCoPusher\" or prob_vars.prob == \"LunarLanderContinuous\":\n",
    "#     particles = np.random.uniform(prob_vars.action_low, prob_vars.action_high, (num_particles, prob_vars.action_dim*prob_vars.horizon))\n",
    "# else: # Pendulum, MountainCarContinuous\n",
    "#     particles = np.random.uniform(prob_vars.action_low, prob_vars.action_high, (num_particles, prob_vars.horizon))\n",
    "\n",
    "# print(\"particles \", particles, \"\\n\")\n",
    "print(\"particles shape \", particles.shape, \"\\n\")\n",
    "\n",
    "costs = torch.zeros(prob_vars.num_particles)\n",
    "# costs = torch.zeros((num_particles, prob_vars.horizon))\n",
    "best_action_sequence = particles[0]\n",
    "\n",
    "best_first_action, actions = particle_filtering_func(prob_vars, particles, costs, best_action_sequence)\n",
    "\n",
    "\n",
    "print(\"actions \", actions, \"\\n\")\n",
    "print(\"best_first_action \", best_first_action, \"\\n\")\n",
    "print(\"actions shape \", actions.shape, \"\\n\")\n",
    "\n"
   ]
  },
  {
   "cell_type": "markdown",
   "id": "2efa9929",
   "metadata": {},
   "source": [
    "Test CEM \n"
   ]
  },
  {
   "cell_type": "code",
   "execution_count": 4,
   "id": "58ec6dd0",
   "metadata": {},
   "outputs": [
    {
     "name": "stdout",
     "output_type": "stream",
     "text": [
      "prob_vars.horizon  30 \n",
      "\n",
      "particles shape  (100, 30) \n",
      "\n",
      "actions  [[2 1 1 ... 0 1 0]\n",
      " [0 1 1 ... 0 1 0]\n",
      " [1 0 1 ... 1 0 0]\n",
      " ...\n",
      " [2 0 2 ... 0 0 0]\n",
      " [2 2 0 ... 1 2 1]\n",
      " [0 2 1 ... 0 1 0]] \n",
      "\n",
      "actions shape  (100, 30) \n",
      "\n"
     ]
    }
   ],
   "source": [
    "if prob_vars.prob == \"CartPole\":\n",
    "    particles = np.random.randint(0, 2, (prob_vars.num_particles, prob_vars.horizon))\n",
    "elif prob_vars.prob == \"Acrobot\" or prob_vars.prob == \"MountainCar\":\n",
    "    particles = np.random.randint(0, 3, (prob_vars.num_particles, prob_vars.horizon))\n",
    "elif prob_vars.prob == \"LunarLander\":\n",
    "    particles = np.random.randint(0, 4, (prob_vars.num_particles, prob_vars.horizon))\n",
    "elif prob_vars.prob == \"PandaReacher\" or prob_vars.prob == \"MuJoCoReacher\" or prob_vars.prob == \"PandaPusher\" or prob_vars.prob == \"MuJoCoPusher\" or prob_vars.prob == \"LunarLanderContinuous\":\n",
    "    particles = np.random.uniform(prob_vars.action_low, prob_vars.action_high, (prob_vars.num_particles, prob_vars.action_dim*prob_vars.horizon))\n",
    "else: # Pendulum, MountainCarContinuous\n",
    "    particles = np.random.uniform(prob_vars.action_low, prob_vars.action_high, (prob_vars.num_particles, prob_vars.horizon))\n",
    "\n",
    "# num_particles = 30\n",
    "print(\"prob_vars.horizon \", prob_vars.horizon, \"\\n\")\n",
    "\n",
    "# if prob_vars.prob == \"CartPole\":\n",
    "#     particles = np.random.randint(0, 2, (num_particles, prob_vars.horizon))\n",
    "# elif prob_vars.prob == \"Acrobot\" or prob_vars.prob == \"MountainCar\":\n",
    "#     particles = np.random.randint(0, 3, (num_particles, prob_vars.horizon))\n",
    "# elif prob_vars.prob == \"LunarLander\":\n",
    "#     particles = np.random.randint(0, 4, (num_particles, prob_vars.horizon))\n",
    "# elif prob_vars.prob == \"PandaReacher\" or prob_vars.prob == \"MuJoCoReacher\" or prob_vars.prob == \"PandaPusher\" or prob_vars.prob == \"MuJoCoPusher\" or prob_vars.prob == \"LunarLanderContinuous\":\n",
    "#     particles = np.random.uniform(prob_vars.action_low, prob_vars.action_high, (num_particles, prob_vars.action_dim*prob_vars.horizon))\n",
    "# else: # Pendulum, MountainCarContinuous\n",
    "#     particles = np.random.uniform(prob_vars.action_low, prob_vars.action_high, (num_particles, prob_vars.horizon))\n",
    "\n",
    "# print(\"particles \", particles, \"\\n\")\n",
    "print(\"particles shape \", particles.shape, \"\\n\")\n",
    "\n",
    "costs = torch.zeros(prob_vars.num_particles)\n",
    "# costs = torch.zeros((num_particles, prob_vars.horizon))\n",
    "best_action_sequence = particles[0]\n",
    "\n",
    "if prob_vars.discrete:\n",
    "    best_first_action, actions = discrete_cem_func(prob_vars, particles, costs, best_action_sequence)\n",
    "\n",
    "else:\n",
    "    best_first_action, actions = continuous_cem_func(prob_vars, particles, costs, best_action_sequence)\n",
    "\n",
    "\n",
    "print(\"actions \", actions, \"\\n\")\n",
    "print(\"actions shape \", actions.shape, \"\\n\")\n",
    "\n"
   ]
  }
 ],
 "metadata": {
  "kernelspec": {
   "display_name": "Python 3",
   "language": "python",
   "name": "python3"
  },
  "language_info": {
   "codemirror_mode": {
    "name": "ipython",
    "version": 3
   },
   "file_extension": ".py",
   "mimetype": "text/x-python",
   "name": "python",
   "nbconvert_exporter": "python",
   "pygments_lexer": "ipython3",
   "version": "3.11.9"
  }
 },
 "nbformat": 4,
 "nbformat_minor": 5
}
